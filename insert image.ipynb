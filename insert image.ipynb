{
 "cells": [
  {
   "cell_type": "code",
   "execution_count": null,
   "metadata": {},
   "outputs": [],
   "source": [
    "import cv2 as cv\n",
    "import numpy as np\n",
    "from random import randint\n",
    "\n",
    "\n",
    "images = ('fin.png', 'frg1.jpg', 'frg2.jpg', 'frg3.jpg', 'frg4.jpg')\n",
    "def show_img(img_show):\n",
    "    cv.imshow('res',img_show)\n",
    "    cv.waitKey(0)\n",
    "    cv.destroyAllWindows()\n",
    "    \n",
    "    \n",
    "def over_back_img(img_back, img_paste, x, y):\n",
    "    place = img_back[y: y+img_paste.shape[0],x: x+img_paste.shape[1]]\n",
    "    place = np.where(place < img_paste,img_paste,place)\n",
    "    img_back[y:y+img_paste.shape[0],x:x+img_paste.shape[1]] = place\n",
    "    \n",
    "    \n",
    "img_first = cv.imread(images[0])\n",
    "img_back = cv.cvtColor(img_first, cv.COLOR_BGR2RGB)\n",
    "\n",
    "\n",
    "count = 50\n",
    "for i in range(count):\n",
    "    # выбор случайного фрагмента \n",
    "    img_paste = cv.imread(images[randint(1, 4)])\n",
    "    img_paste = cv.cvtColor(img_paste, cv.COLOR_BGR2RGB)\n",
    "    # выбор случайных координат учитывая размеры фрагментов\n",
    "    x, y = randint(0,img_back.shape[1]-img_paste.shape[1]), randint(0,img_back.shape[0]-img_paste.shape[0])\n",
    "    # вставка фрагмента\n",
    "    over_back_img(img_back, img_paste, x, y)\n",
    "# запись файла\n",
    "cv.imwrite('final.png', img_back)\n",
    "#просмотр файла\n",
    "show_img(img_back)"
   ]
  },
  {
   "cell_type": "code",
   "execution_count": null,
   "metadata": {},
   "outputs": [],
   "source": []
  }
 ],
 "metadata": {
  "kernelspec": {
   "display_name": "Python 3",
   "language": "python",
   "name": "python3"
  },
  "language_info": {
   "codemirror_mode": {
    "name": "ipython",
    "version": 3
   },
   "file_extension": ".py",
   "mimetype": "text/x-python",
   "name": "python",
   "nbconvert_exporter": "python",
   "pygments_lexer": "ipython3",
   "version": "3.6.9"
  }
 },
 "nbformat": 4,
 "nbformat_minor": 4
}
